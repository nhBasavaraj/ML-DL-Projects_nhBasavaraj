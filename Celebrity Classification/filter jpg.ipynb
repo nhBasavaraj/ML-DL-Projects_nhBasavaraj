{
 "cells": [
  {
   "cell_type": "code",
   "execution_count": 10,
   "id": "4d14c174",
   "metadata": {},
   "outputs": [],
   "source": [
    "import os\n",
    "\n",
    "# Set the directory path\n",
    "dir_path = r\"E:\\D-S 121_Resources\\DS_57 to 73_ML and DS Project\\DS_66 to 73_ML & DS_ImageClassification_ Project\\dataset\\virat_kohli\"\n",
    "\n",
    "# Get a list of all the files in the directory\n",
    "files = os.listdir(dir_path)\n",
    "\n",
    "# Iterate over the list of files\n",
    "for file in files:\n",
    "  # Check if the file has a .jpg extension\n",
    "  if not file.endswith('.jpg'):\n",
    "    # If it doesn't, delete the file\n",
    "    os.remove(os.path.join(dir_path, file))\n"
   ]
  },
  {
   "cell_type": "code",
   "execution_count": null,
   "id": "bdd704f2",
   "metadata": {},
   "outputs": [],
   "source": []
  }
 ],
 "metadata": {
  "kernelspec": {
   "display_name": "Python 3 (ipykernel)",
   "language": "python",
   "name": "python3"
  },
  "language_info": {
   "codemirror_mode": {
    "name": "ipython",
    "version": 3
   },
   "file_extension": ".py",
   "mimetype": "text/x-python",
   "name": "python",
   "nbconvert_exporter": "python",
   "pygments_lexer": "ipython3",
   "version": "3.9.15"
  }
 },
 "nbformat": 4,
 "nbformat_minor": 5
}
